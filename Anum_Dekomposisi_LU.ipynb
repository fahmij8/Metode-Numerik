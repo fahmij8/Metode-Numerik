{
  "nbformat": 4,
  "nbformat_minor": 0,
  "metadata": {
    "colab": {
      "name": "Anum - Dekomposisi LU.ipynb",
      "provenance": [],
      "collapsed_sections": [],
      "authorship_tag": "ABX9TyNCe6J8dbBdqdv440TwuWED",
      "include_colab_link": true
    },
    "kernelspec": {
      "name": "python3",
      "display_name": "Python 3"
    }
  },
  "cells": [
    {
      "cell_type": "markdown",
      "metadata": {
        "id": "view-in-github",
        "colab_type": "text"
      },
      "source": [
        "<a href=\"https://colab.research.google.com/github/fahmij8/Metode-Numerik/blob/master/Anum_Dekomposisi_LU.ipynb\" target=\"_parent\"><img src=\"https://colab.research.google.com/assets/colab-badge.svg\" alt=\"Open In Colab\"/></a>"
      ]
    },
    {
      "cell_type": "markdown",
      "metadata": {
        "id": "cMkcp-iwxHfo",
        "colab_type": "text"
      },
      "source": [
        "# Komputasi dan Analisis Numerik\n",
        "### Dekomposisi LU\n",
        "---\n",
        "#### Nama : Fahmi Jabbar\n",
        "\n",
        "##### NIM :1801389"
      ]
    },
    {
      "cell_type": "code",
      "metadata": {
        "id": "WKLrha9njFN5",
        "colab_type": "code",
        "colab": {}
      },
      "source": [
        "import numpy \n",
        "from numpy import *"
      ],
      "execution_count": 0,
      "outputs": []
    },
    {
      "cell_type": "code",
      "metadata": {
        "id": "iLezPH7N9Cj2",
        "colab_type": "code",
        "colab": {}
      },
      "source": [
        "def jalanLU(A,b):\n",
        "  n=len(A)\n",
        "\n",
        "  #========== matriks L dari sini ===================#\n",
        "  L=zeros((n,n))\n",
        "  for i in range(0,n):\n",
        "      L[i][i]=1\n",
        "\n",
        "  #~~~~~~proses triangularisasi~~~~~~#\n",
        "  for k in range(0,n-1):                  #-----proses pivot dari sini-------#\n",
        "      if A[k][k]==0:\n",
        "          for s in range(0,n):\n",
        "              v=A[k][s]\n",
        "              u=A[k+1][s]\n",
        "              A[k][s]=u\n",
        "              A[k+1][s]=v\n",
        "  #-----proses pivot sampai sini-----#\n",
        "      for j in range(k+1,n):\n",
        "          m=A[j][k]/A[k][k]\n",
        "          L[j][k]=m # nilai m disimpan di matriks L\n",
        "          for i in range(0,n):\n",
        "              A[j][i]=A[j][i]-m*A[k][i]\n",
        "  print()\n",
        "  print('Matriks L')\n",
        "  print(L)\n",
        "  #========== matriks L sampai sini =================#\n",
        "\n",
        "  #========== matriks U dari sini ===================#\n",
        "  print()\n",
        "  print('Matriks U')\n",
        "  print(A)      \n",
        "  #========== matriks U sampai sini =================#\n",
        "\n",
        "  #------proses substitusi maju------#\n",
        "  y=zeros((n,1))\n",
        "  y[0][0]=b[0][0]/L[0][0]\n",
        "  for j in range(1,n):\n",
        "      S=0\n",
        "      for i in range(0,j):\n",
        "          S=S+y[i][0]*L[j][i]\n",
        "      y[j][0]=b[j][0]-S\n",
        "\n",
        "  #------proses substitusi mundur----#\n",
        "  x=zeros((n,1))\n",
        "  x[n-1][0]=y[n-1][0]/A[n-1][n-1]\n",
        "  for j in range(n-2,-1,-1):\n",
        "      S=0\n",
        "      for i in range(j+1,n):\n",
        "          S=S+A[j][i]*x[i][0]\n",
        "      x[j][0]=(y[j][0]-S)/A[j][j]\n",
        "  print()\n",
        "  print('Solusinya:\\n')\n",
        "  print(\"X1 = \" + str(x[0]) + \"\\n\")\n",
        "  print(\"X2 = \" + str(x[1]) + \"\\n\")\n",
        "  print(\"X3 = \" + str(x[2]) + \"\\n\")"
      ],
      "execution_count": 0,
      "outputs": []
    },
    {
      "cell_type": "markdown",
      "metadata": {
        "id": "mrfnE_HhxNrz",
        "colab_type": "text"
      },
      "source": [
        "## Soal No.1\n",
        "\n",
        "2x + 4y + 3z = 16\n",
        "\n",
        "3x + 5y + 2z = 12\n",
        "\n",
        "4x + 6y + 3z = 12"
      ]
    },
    {
      "cell_type": "code",
      "metadata": {
        "id": "O1O4IUN_j1Z4",
        "colab_type": "code",
        "outputId": "d6aa2369-5600-43e6-a381-09d2b1ce1807",
        "colab": {
          "base_uri": "https://localhost:8080/",
          "height": 493
        }
      },
      "source": [
        "A = array([[2., 4., 3.],\\\n",
        "           [3., 5., 2.],\\\n",
        "           [4., 6., 3.]])\n",
        "print('Matriks A')\n",
        "print (A)\n",
        "\n",
        "b = array([[16.],\\\n",
        "           [12.],\\\n",
        "           [12.]])\n",
        "print('')\n",
        "print('Matriks B')\n",
        "print(b)\n",
        "jalanLU(A,b)"
      ],
      "execution_count": 8,
      "outputs": [
        {
          "output_type": "stream",
          "text": [
            "Matriks A\n",
            "[[2. 4. 3.]\n",
            " [3. 5. 2.]\n",
            " [4. 6. 3.]]\n",
            "\n",
            "Matriks B\n",
            "[[16.]\n",
            " [12.]\n",
            " [12.]]\n",
            "\n",
            "Matriks L\n",
            "[[1.  0.  0. ]\n",
            " [1.5 1.  0. ]\n",
            " [2.  2.  1. ]]\n",
            "\n",
            "Matriks U\n",
            "[[ 2.   4.   3. ]\n",
            " [ 0.  -1.  -2.5]\n",
            " [ 0.   0.   2. ]]\n",
            "\n",
            "Solusinya:\n",
            "\n",
            "X1 = [-9.]\n",
            "\n",
            "X2 = [7.]\n",
            "\n",
            "X3 = [2.]\n",
            "\n"
          ],
          "name": "stdout"
        }
      ]
    },
    {
      "cell_type": "markdown",
      "metadata": {
        "id": "2z_8xkj-8qRc",
        "colab_type": "text"
      },
      "source": [
        "## Soal No.2\n",
        "\n",
        "x + y - z = 4\n",
        "\n",
        "x - 2y + 3z = -6\n",
        "\n",
        "2x + 3y + z = 7"
      ]
    },
    {
      "cell_type": "code",
      "metadata": {
        "id": "CBmr5kuA9N59",
        "colab_type": "code",
        "outputId": "4be2d261-a606-4224-95b3-c233cdf2bd15",
        "colab": {
          "base_uri": "https://localhost:8080/",
          "height": 493
        }
      },
      "source": [
        "A = array([[1., 1., -1.],\\\n",
        "           [1., -2., 3.],\\\n",
        "           [2., 3., 1.]])\n",
        "print('Matriks A')\n",
        "print (A)\n",
        "\n",
        "b = array([[4.],\\\n",
        "           [-6.],\\\n",
        "           [7.]])\n",
        "print('')\n",
        "print('Matriks B')\n",
        "print(b)\n",
        "jalanLU(A,b)"
      ],
      "execution_count": 9,
      "outputs": [
        {
          "output_type": "stream",
          "text": [
            "Matriks A\n",
            "[[ 1.  1. -1.]\n",
            " [ 1. -2.  3.]\n",
            " [ 2.  3.  1.]]\n",
            "\n",
            "Matriks B\n",
            "[[ 4.]\n",
            " [-6.]\n",
            " [ 7.]]\n",
            "\n",
            "Matriks L\n",
            "[[ 1.          0.          0.        ]\n",
            " [ 1.          1.          0.        ]\n",
            " [ 2.         -0.33333333  1.        ]]\n",
            "\n",
            "Matriks U\n",
            "[[ 1.          1.         -1.        ]\n",
            " [ 0.         -3.          4.        ]\n",
            " [ 0.          0.          4.33333333]]\n",
            "\n",
            "Solusinya:\n",
            "\n",
            "X1 = [1.]\n",
            "\n",
            "X2 = [2.]\n",
            "\n",
            "X3 = [-1.]\n",
            "\n"
          ],
          "name": "stdout"
        }
      ]
    }
  ]
}