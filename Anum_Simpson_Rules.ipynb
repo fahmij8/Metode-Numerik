{
  "nbformat": 4,
  "nbformat_minor": 0,
  "metadata": {
    "colab": {
      "name": "Anum - Simpson Rules.ipynb",
      "provenance": [],
      "collapsed_sections": [],
      "authorship_tag": "ABX9TyOWS0DnAsoOAfP/H6tqY3GX"
    },
    "kernelspec": {
      "name": "python3",
      "display_name": "Python 3"
    }
  },
  "cells": [
    {
      "cell_type": "markdown",
      "metadata": {
        "id": "cMkcp-iwxHfo",
        "colab_type": "text"
      },
      "source": [
        "# Komputasi dan Analisis Numerik\n",
        "### Simpson Rules\n",
        "---\n",
        "#### Nama : Fahmi Jabbar\n",
        "\n",
        "##### NIM :1801389"
      ]
    },
    {
      "cell_type": "code",
      "metadata": {
        "id": "WKLrha9njFN5",
        "colab_type": "code",
        "cellView": "form",
        "outputId": "bc310260-3e98-4ced-9b8b-c40d9b71449a",
        "colab": {
          "base_uri": "https://localhost:8080/",
          "height": 170
        }
      },
      "source": [
        "#@title Import Module\n",
        "!pip3 install PTable\n",
        "import matplotlib.pyplot as plt\n",
        "import numpy as np\n",
        "import scipy.integrate as integral\n",
        "\n",
        "from prettytable import PrettyTable\n",
        "from matplotlib import style\n",
        "style.use(\"seaborn\")"
      ],
      "execution_count": 0,
      "outputs": [
        {
          "output_type": "stream",
          "text": [
            "Collecting PTable\n",
            "  Downloading https://files.pythonhosted.org/packages/ab/b3/b54301811173ca94119eb474634f120a49cd370f257d1aae5a4abaf12729/PTable-0.9.2.tar.gz\n",
            "Building wheels for collected packages: PTable\n",
            "  Building wheel for PTable (setup.py) ... \u001b[?25l\u001b[?25hdone\n",
            "  Created wheel for PTable: filename=PTable-0.9.2-cp36-none-any.whl size=22908 sha256=11fd456df2ec55232b8de964453cc528065f55d94bb71c5facf00416bc494fac\n",
            "  Stored in directory: /root/.cache/pip/wheels/22/cc/2e/55980bfe86393df3e9896146a01f6802978d09d7ebcba5ea56\n",
            "Successfully built PTable\n",
            "Installing collected packages: PTable\n",
            "Successfully installed PTable-0.9.2\n"
          ],
          "name": "stdout"
        }
      ]
    },
    {
      "cell_type": "code",
      "metadata": {
        "id": "-GbI1fEdjPy8",
        "colab_type": "code",
        "cellView": "both",
        "colab": {}
      },
      "source": [
        "#@title Integration Approach\n",
        "\n",
        "# Midpoint's Rule\n",
        "def midpointRule(F, a, b, n):\n",
        "  h = float(b-a)/n\n",
        "  result =0\n",
        "  for i in range(n):\n",
        "    result += F((a + h/2) + i*h)\n",
        "    result *= h\n",
        "  return format(result, '.16f')\n",
        "\n",
        "# Trapezoidal Rule\n",
        "def trapezoidalRule(F,a,b,n):\n",
        "  h = float(b-a)/n\n",
        "  f_sum = 0\n",
        "  for i in range(1, n, 1):\n",
        "    x = a + i * h\n",
        "    f_sum = f_sum + f(x)\n",
        "  return format((h * (0.5 * f(a) + f_sum + 0.5 * f(b))), '.16f')\n",
        "\n",
        "# Simpson Rule\n",
        "def simpsonRule(F,a,b,n):\n",
        "  h = float(b-a) / n\n",
        "  result = F(a) + F(b)\n",
        "  for i in range(1, n, 1):\n",
        "    if(i % 2 == 0):\n",
        "      result = result + (2*(f(a+i*h)))\n",
        "    else :\n",
        "      result = result + (4*(f(a+i*h)))\n",
        "  result *= (h/3)\n",
        "  return format(result, '.16f')\n",
        "\n",
        "# Definite Integral\n",
        "def defIntegral(F,a,b):\n",
        "  result = integral.quad(F, a, b)\n",
        "  return result"
      ],
      "execution_count": 0,
      "outputs": []
    },
    {
      "cell_type": "code",
      "metadata": {
        "id": "DYev2rnVFrP-",
        "colab_type": "code",
        "cellView": "both",
        "colab": {}
      },
      "source": [
        "#@title Graph function\n",
        "#Area integral, dengan matplotlib\n",
        "import warnings\n",
        "warnings.filterwarnings(\"ignore\")\n",
        "\n",
        "def integArea(eq, upperLim, bottomLim, breakUp):\n",
        "    f = eq\n",
        "    a = upperLim; b = bottomLim; N = breakUp\n",
        "    x = np.linspace(a,b,N+1)\n",
        "    X = np.linspace(a,b,N*N+1)\n",
        "    do = np.linspace(a,b,1000)\n",
        "    Y = f(X)\n",
        "\n",
        "\n",
        "    plt.figure(figsize=(15,5))\n",
        "\n",
        "    plt.subplot(1,3,1)\n",
        "    plt.plot(do, f(do), color=\"#0000ff\")\n",
        "    plt.title('Fungsi f(x)')\n",
        "    plt.ylim(bottom=0)\n",
        "\n",
        "    plt.subplot(1,3,2)\n",
        "    plt.plot(do, f(do), color=\"#0000ff\")\n",
        "    plt.title('Luas area fungsi f(x)')\n",
        "    plt.fill_between(do, f(do), where=[(do >= a) and (do <= b) for do in do], color=\"#0f0f0f50\")\n",
        "    plt.ylim(bottom=0)"
      ],
      "execution_count": 0,
      "outputs": []
    },
    {
      "cell_type": "code",
      "metadata": {
        "id": "CAwLLVP2CHid",
        "colab_type": "code",
        "cellView": "both",
        "colab": {}
      },
      "source": [
        "#@title Answer possibilities\n",
        "def answerQuestion(f, a, b, nz):\n",
        "  mine = PrettyTable()\n",
        "  mine.field_names = [\"n\",\"Trapezoidal Rule\", \"Midpoint Rule\", \"Simpson Rule\",\"Error Simpson Rule\"]\n",
        "  mine.align[\"n\"] = \"r\" \n",
        "  mine.align[\"Trapezoidal Rule\"] = \"c\" \n",
        "  mine.align[\"Simpson Rule\"] = \"c\" \n",
        "  mine.align[\"Midpoint Rule\"] = \"c\" \n",
        "  mine.align[\"Error Simpson Rule\"] = \"c\"\n",
        "  print(\"Luas area f(x) sebenarnya = \" + str(defIntegral(f,a,b)[0]))\n",
        "  integArea(f, a, b, nz)\n",
        "  for i in range (1,11):  \n",
        "    n = 2**i\n",
        "    t = trapezoidalRule(f, a, b, n)\n",
        "    s = simpsonRule(f, a, b, n)\n",
        "    m = midpointRule(f, a, b, n)\n",
        "    x = defIntegral(f,a,b)[0]\n",
        "    error = abs((x-float(s))/x)\n",
        "    error = format(error, '.16f') + \" %\"\n",
        "    mine.add_row([n,t,m,s,error])\n",
        "  print(mine)"
      ],
      "execution_count": 0,
      "outputs": []
    },
    {
      "cell_type": "markdown",
      "metadata": {
        "id": "mrfnE_HhxNrz",
        "colab_type": "text"
      },
      "source": [
        "## Soal No.1\n",
        "Gunakan aturan simpson untuk fungsi berikut, dimana $n = 2^{m} $ dan $m = 1-10$\n",
        "\n",
        "$f(x) = \\int_{0}^{8} \\sqrt{x}  dx $\n"
      ]
    },
    {
      "cell_type": "code",
      "metadata": {
        "id": "L1fyrFdYwMeX",
        "colab_type": "code",
        "cellView": "both",
        "outputId": "7f3c6c9d-ce17-4132-c54e-271545d04fb8",
        "colab": {
          "base_uri": "https://localhost:8080/",
          "height": 590
        }
      },
      "source": [
        "#@title Jawaban\n",
        "def f(x):\n",
        "  return np.sqrt(x)\n",
        "\n",
        "a = 0\n",
        "b = 8\n",
        "n = 4 #Untuk Grafik Fungsi F(x)\n",
        "\n",
        "answerQuestion(f, a, b, n)"
      ],
      "execution_count": 0,
      "outputs": [
        {
          "output_type": "stream",
          "text": [
            "Luas area f(x) sebenarnya = 15.084944665313007\n",
            "+------+---------------------+---------------------+---------------------+----------------------+\n",
            "|    n |   Trapezoidal Rule  |    Midpoint Rule    |     Simpson Rule    |  Error Simpson Rule  |\n",
            "+------+---------------------+---------------------+---------------------+----------------------+\n",
            "|    2 | 13.6568542494923797 | 32.4253759691022339 | 14.4379028329949186 | 0.0428932188134521 % |\n",
            "|    4 | 14.5558337350587355 | 44.0921809926793529 | 14.8554935635808540 | 0.0152106028111434 % |\n",
            "|    8 | 14.8917869636626250 | 15.1384699438428783 | 15.0037713731972566 | 0.0053810798724641 % |\n",
            "|   16 | 15.0151284537527516 |  2.6888947966461032 | 15.0562422837827938 | 0.0019027170577703 % |\n",
            "|   32 | 15.0598795879086378 |  0.9303971693246542 | 15.0747966326272689 | 0.0006727258807301 % |\n",
            "|   64 | 15.0759874826369735 |  0.4020245067181593 | 15.0813567808797515 | 0.0002378453824564 % |\n",
            "|  128 | 15.0817539875010063 |  0.1881438524714509 | 15.0836761557890160 | 0.0000840910956013 % |\n",
            "|  256 | 15.0838106314392899 |  0.0911446798729424 | 15.0844961794187036 | 0.0000297306953558 % |\n",
            "|  512 | 15.0845422340607449 |  0.0448730449600267 | 15.0847861016012388 | 0.0000105113883601 % |\n",
            "| 1024 | 15.0848020119463655 |  0.0222655561146402 | 15.0848886045748944 | 0.0000037163370073 % |\n",
            "+------+---------------------+---------------------+---------------------+----------------------+\n"
          ],
          "name": "stdout"
        },
        {
          "output_type": "display_data",
          "data": {
            "image/png": "[encoded data removed]",
            "text/plain": [
              "<Figure size 1080x360 with 2 Axes>"
            ]
          },
          "metadata": {
            "tags": [],
            "needs_background": "light"
          }
        }
      ]
    },
    {
      "cell_type": "markdown",
      "metadata": {
        "id": "nkIIzMa0yvoa",
        "colab_type": "text"
      },
      "source": [
        "## Soal No.2\n",
        "Gunakan aturan simpson untuk fungsi berikut, dimana $n = 2^{m} $ dan $m = 1-10$\n",
        "\n",
        "$f(x) =  \\int_{0}^{1} e^{x} dx $"
      ]
    },
    {
      "cell_type": "code",
      "metadata": {
        "id": "I6qEmMckZf0n",
        "colab_type": "code",
        "outputId": "05357800-93c6-484f-fe6f-477263e9ef55",
        "colab": {
          "base_uri": "https://localhost:8080/",
          "height": 590
        }
      },
      "source": [
        "#@title Jawaban\n",
        "def f(x):\n",
        "  return np.e**x\n",
        "\n",
        "a = 0\n",
        "b = 1\n",
        "n = 4 #Untuk Grafik Fungsi F(x)\n",
        "\n",
        "answerQuestion(f, a, b, n)"
      ],
      "execution_count": 0,
      "outputs": [
        {
          "output_type": "stream",
          "text": [
            "Luas area f(x) sebenarnya = 1.718281828459045\n",
            "+------+--------------------+--------------------+--------------------+----------------------+\n",
            "|    n |  Trapezoidal Rule  |   Midpoint Rule    |    Simpson Rule    |  Error Simpson Rule  |\n",
            "+------+--------------------+--------------------+--------------------+----------------------+\n",
            "|    2 | 1.7539310924648253 | 1.3795063624782729 | 1.7188611518765928 | 0.0003371527347567 % |\n",
            "|    4 | 1.7272219045575166 | 0.7436447978294900 | 1.7183188419217470 | 0.0000215409731331 % |\n",
            "|    8 | 1.7205185921643018 | 0.3587760155660256 | 1.7182841546998970 | 0.0000013538179904 % |\n",
            "|   16 | 1.7188411285799945 | 0.1749366807418603 | 1.7182819740518918 | 0.0000000847316454 % |\n",
            "|   32 | 1.7184216603163267 | 0.0862414646443016 | 1.7182818375617714 | 0.0000000052975747 % |\n",
            "|   64 | 1.7183167868500941 | 0.0428010225887933 | 1.7182818290280153 | 0.0000000003311274 % |\n",
            "|  128 | 1.7182905680834779 | 0.0213190420931653 | 1.7182818284946058 | 0.0000000000206955 % |\n",
            "|  256 | 1.7182840133668198 | 0.0106389662282416 | 1.7182818284612671 | 0.0000000000012932 % |\n",
            "|  512 | 1.7182823746860942 | 0.0053143212968939 | 1.7182818284591859 | 0.0000000000000819 % |\n",
            "| 1024 | 1.7182819650158130 | 0.0026558673255594 | 1.7182818284590509 | 0.0000000000000034 % |\n",
            "+------+--------------------+--------------------+--------------------+----------------------+\n"
          ],
          "name": "stdout"
        },
        {
          "output_type": "display_data",
          "data": {
            "image/png": "[encoded data removed]",
            "text/plain": [
              "<Figure size 1080x360 with 2 Axes>"
            ]
          },
          "metadata": {
            "tags": [],
            "needs_background": "light"
          }
        }
      ]
    }
  ]
}