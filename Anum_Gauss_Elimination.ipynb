{
  "nbformat": 4,
  "nbformat_minor": 0,
  "metadata": {
    "colab": {
      "name": "Anum - Gauss Elimination.ipynb",
      "provenance": [],
      "collapsed_sections": [],
      "authorship_tag": "ABX9TyMjgSmzhhNvQ9Zv8XJ0dpbo",
      "include_colab_link": true
    },
    "kernelspec": {
      "name": "python3",
      "display_name": "Python 3"
    }
  },
  "cells": [
    {
      "cell_type": "markdown",
      "metadata": {
        "id": "view-in-github",
        "colab_type": "text"
      },
      "source": [
        "<a href=\"https://colab.research.google.com/github/fahmij8/Metode-Numerik/blob/master/Anum_Gauss_Elimination.ipynb\" target=\"_parent\"><img src=\"https://colab.research.google.com/assets/colab-badge.svg\" alt=\"Open In Colab\"/></a>"
      ]
    },
    {
      "cell_type": "markdown",
      "metadata": {
        "id": "cMkcp-iwxHfo",
        "colab_type": "text"
      },
      "source": [
        "# Komputasi dan Analisis Numerik\n",
        "### Metode Eliminasi Gauss\n",
        "---\n",
        "#### Nama : Fahmi Jabbar\n",
        "\n",
        "##### NIM :1801389"
      ]
    },
    {
      "cell_type": "code",
      "metadata": {
        "id": "WKLrha9njFN5",
        "colab_type": "code",
        "colab": {}
      },
      "source": [
        "import numpy as np"
      ],
      "execution_count": 0,
      "outputs": []
    },
    {
      "cell_type": "code",
      "metadata": {
        "id": "-GbI1fEdjPy8",
        "colab_type": "code",
        "colab": {}
      },
      "source": [
        "def gaussian_partial(A, b):\n",
        "    \n",
        "    n = A.shape[0]\n",
        "    \n",
        "    C=np.c_[A,b.reshape(-1,1)]\n",
        "    \n",
        "    flag = 0\n",
        "    \n",
        "    #column\n",
        "    for i in range(n-1):\n",
        "            \n",
        "        max_c, chosen_k  = 0, i\n",
        "        \n",
        "        #find the pivot\n",
        "        for k in range(i, n):\n",
        "            if np.abs(C[k,i]) > max_c:\n",
        "                max_c = np.abs(C[k,i])\n",
        "                chosen_k = k\n",
        "         \n",
        "        #Check if the pivot is zero\n",
        "        if max_c == 0:\n",
        "            flag = 1\n",
        "            break\n",
        "        \n",
        "        #interchange rows\n",
        "        if chosen_k != i:\n",
        "            #Swap 2 rows\n",
        "            temp = C[i,:].copy()\n",
        "            C[i,:] = C[chosen_k,:]\n",
        "            C[chosen_k,:] = temp\n",
        "    \n",
        "        \n",
        "        #row\n",
        "        for j in range(i+1, n):\n",
        "            \n",
        "            c = C[j,i]/C[i,i]\n",
        "            C[j,:] = C[j,:] - c*C[i,:]\n",
        "            \n",
        "    return C, flag"
      ],
      "execution_count": 0,
      "outputs": []
    },
    {
      "cell_type": "code",
      "metadata": {
        "id": "q7yxHuO_jXNX",
        "colab_type": "code",
        "colab": {}
      },
      "source": [
        "def backsubstitution(T):\n",
        "    \n",
        "    flag=0\n",
        "    n = T.shape[0]\n",
        "    X = np.zeros((n))\n",
        "    if T[n-1,n-1] == 0:\n",
        "        flag = 1\n",
        "    \n",
        "    else:\n",
        "    \n",
        "        X[n-1] = T[n-1,n]/T[n-1,n-1] \n",
        "\n",
        "        for i in range(n-2,-1,-1):\n",
        "            #Sum in row i\n",
        "            s = 0\n",
        "            for j in range(i+1, n):\n",
        "                s += T[i,j]*X[j]\n",
        "\n",
        "            X[i] = (T[i,n] - s)/T[i,i]\n",
        "    \n",
        "    return X, flag"
      ],
      "execution_count": 0,
      "outputs": []
    },
    {
      "cell_type": "markdown",
      "metadata": {
        "id": "mrfnE_HhxNrz",
        "colab_type": "text"
      },
      "source": [
        "## Soal No.1\n",
        "-3x + 2y - z = -1\n",
        "\n",
        "6x  - 6y +7z = -7\n",
        "\n",
        "3x - 4y + 4z = -6\n"
      ]
    },
    {
      "cell_type": "code",
      "metadata": {
        "id": "_qCuyqm_jZ6H",
        "colab_type": "code",
        "colab": {}
      },
      "source": [
        "A = np.array([\n",
        "            [-3, 2, -1],\n",
        "            [6, -6, 7],\n",
        "            [3, -4, 4]\n",
        "            ])\n",
        "b= np.array([-1,-7,-6])"
      ],
      "execution_count": 0,
      "outputs": []
    },
    {
      "cell_type": "code",
      "metadata": {
        "id": "oQSQFa5rjvUa",
        "colab_type": "code",
        "outputId": "04d0cab3-f694-441c-b71e-8fd027b35a88",
        "colab": {
          "base_uri": "https://localhost:8080/",
          "height": 102
        }
      },
      "source": [
        "T, err = gaussian_partial(A,b)\n",
        "\n",
        "if err:\n",
        "    print('Not unique solution')\n",
        "else:\n",
        "    X, err = backsubstitution(T)\n",
        "    if err:\n",
        "        print('Not unique solution')\n",
        "    else:\n",
        "        print('Solusi\\n' + \n",
        "              \"X = \" + str(X[0]) + \"\\n\" +\n",
        "              \"Y = \" + str(X[1]) + \"\\n\" +\n",
        "              \"Z = \" + str(X[2]) + \"\\n\" )"
      ],
      "execution_count": 5,
      "outputs": [
        {
          "output_type": "stream",
          "text": [
            "Solusi\n",
            "X = 2.0\n",
            "Y = 2.0\n",
            "Z = -1.0\n",
            "\n"
          ],
          "name": "stdout"
        }
      ]
    },
    {
      "cell_type": "code",
      "metadata": {
        "id": "O1O4IUN_j1Z4",
        "colab_type": "code",
        "outputId": "5aa04b77-d69a-4504-c178-d717a87a7089",
        "colab": {
          "base_uri": "https://localhost:8080/",
          "height": 34
        }
      },
      "source": [
        "# Pembuktian\n",
        "# Dengan fungsi linear algorithm\n",
        "np.linalg.solve(A,b)"
      ],
      "execution_count": 6,
      "outputs": [
        {
          "output_type": "execute_result",
          "data": {
            "text/plain": [
              "array([ 2.,  2., -1.])"
            ]
          },
          "metadata": {
            "tags": []
          },
          "execution_count": 6
        }
      ]
    },
    {
      "cell_type": "markdown",
      "metadata": {
        "id": "4PXKCMr9xR9V",
        "colab_type": "text"
      },
      "source": [
        "## Soal No. 2\n",
        "2x + y + 5z = 8\n",
        "\n",
        "4x  + 4y - 4z = 4\n",
        "\n",
        "x + 3y + z = 5\n"
      ]
    },
    {
      "cell_type": "code",
      "metadata": {
        "id": "p6Uz9OYPyRXn",
        "colab_type": "code",
        "colab": {}
      },
      "source": [
        "A = np.array([[2, 1, 5],\n",
        "            [4, 4, -4],\n",
        "            [1, 3, 1]])\n",
        "b= np.array([8,4,5])"
      ],
      "execution_count": 0,
      "outputs": []
    },
    {
      "cell_type": "code",
      "metadata": {
        "id": "3kQwTh5XyVm8",
        "colab_type": "code",
        "outputId": "324ee85b-5d21-4dfc-eb11-fc941d03dcd8",
        "colab": {
          "base_uri": "https://localhost:8080/",
          "height": 85
        }
      },
      "source": [
        "T, err = gaussian_partial(A,b)\n",
        "\n",
        "if err:\n",
        "    print('Not unique solution')\n",
        "else:\n",
        "    X, err = backsubstitution(T)\n",
        "    if err:\n",
        "        print('Not unique solution')\n",
        "    else:\n",
        "        print('Solusi\\n' + \n",
        "              \"X = \" + str(X[0]) + \"\\n\" +\n",
        "              \"Y = \" + str(X[1]) + \"\\n\" +\n",
        "              \"Z = \" + str(X[2]) )"
      ],
      "execution_count": 8,
      "outputs": [
        {
          "output_type": "stream",
          "text": [
            "Solusi\n",
            "X = 1.0\n",
            "Y = 1.0\n",
            "Z = 1.0\n"
          ],
          "name": "stdout"
        }
      ]
    },
    {
      "cell_type": "code",
      "metadata": {
        "id": "PINaoXCW4aGF",
        "colab_type": "code",
        "outputId": "c7db632f-68df-4d7e-f4ba-c8746512df98",
        "colab": {
          "base_uri": "https://localhost:8080/",
          "height": 34
        }
      },
      "source": [
        "# Pembuktian\n",
        "# Dengan fungsi linear algorithm\n",
        "np.linalg.solve(A,b)"
      ],
      "execution_count": 9,
      "outputs": [
        {
          "output_type": "execute_result",
          "data": {
            "text/plain": [
              "array([1., 1., 1.])"
            ]
          },
          "metadata": {
            "tags": []
          },
          "execution_count": 9
        }
      ]
    }
  ]
}