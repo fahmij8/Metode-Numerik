{
  "nbformat": 4,
  "nbformat_minor": 0,
  "metadata": {
    "colab": {
      "name": "Anum - Trapezoidal_Rule.ipynb",
      "provenance": [],
      "collapsed_sections": [],
      "authorship_tag": "ABX9TyPcNsnfsHhvtTl4CDOdKskS"
    },
    "kernelspec": {
      "name": "python3",
      "display_name": "Python 3"
    }
  },
  "cells": [
    {
      "cell_type": "markdown",
      "metadata": {
        "id": "cMkcp-iwxHfo",
        "colab_type": "text"
      },
      "source": [
        "# Komputasi dan Analisis Numerik\n",
        "### Trapezoidal Rule\n",
        "---\n",
        "#### Nama : Fahmi Jabbar\n",
        "\n",
        "##### NIM :1801389"
      ]
    },
    {
      "cell_type": "code",
      "metadata": {
        "id": "WKLrha9njFN5",
        "colab_type": "code",
        "cellView": "both",
        "colab": {}
      },
      "source": [
        "#@title Import module\n",
        "import math \n",
        "import matplotlib.pyplot as plt\n",
        "import numpy as np\n",
        "import scipy.integrate as integral\n",
        "\n",
        "from math import *\n",
        "from matplotlib import style\n",
        "style.use(\"seaborn\")"
      ],
      "execution_count": 0,
      "outputs": []
    },
    {
      "cell_type": "code",
      "metadata": {
        "id": "-GbI1fEdjPy8",
        "colab_type": "code",
        "cellView": "both",
        "colab": {}
      },
      "source": [
        "#@title Trapezoidal Rule\n",
        "def trapezoidalRule(F,a,b,n):\n",
        "  h = (b-a)/n\n",
        "  f_sum = 0\n",
        "  for i in range(1, n, 1):\n",
        "    x = a + i * h\n",
        "    f_sum = f_sum + f(x)\n",
        "    #print(f_sum)\n",
        "  return h * (0.5 * f(a) + f_sum + 0.5 * f(b))\n",
        "\n",
        "def realIntegration(f,a,b):\n",
        "  result = integral.quad(f, a, b)\n",
        "  return result"
      ],
      "execution_count": 0,
      "outputs": []
    },
    {
      "cell_type": "code",
      "metadata": {
        "id": "DYev2rnVFrP-",
        "colab_type": "code",
        "cellView": "both",
        "colab": {}
      },
      "source": [
        "#@title Fungsi tampilan grafik\n",
        "#Area integral, dengan matplotlib\n",
        "import warnings\n",
        "warnings.filterwarnings(\"ignore\")\n",
        "\n",
        "def integArea(soal):\n",
        "  if(soal == 1):\n",
        "    x = np.linspace(0.8, 6.2, 1000)\n",
        "    def f(x) : return np.sqrt(x-1)\n",
        "    plt.plot(x, f(x), color=\"#0000ff\")\n",
        "    plt.fill_between(x, f(x), where=[(x > 0) and (x < 6) for x in x], color=\"#0f0f0f80\")\n",
        "    plt.ylim(bottom=-0.1)\n",
        "  elif(soal == 2):\n",
        "    x = np.linspace(0, 3.5, 1000)\n",
        "    def f(x) : return np.sin(x)**2\n",
        "    plt.plot(x, f(x), color=\"#0000ff\")\n",
        "    plt.fill_between(x, f(x), where=[(x > 0) and (x < np.pi) for x in x], color=\"#0f0f0f80\")\n",
        "    plt.ylim(bottom=-0.1)\n",
        "  else :\n",
        "    print(\"Soal nomor berapa ?\")"
      ],
      "execution_count": 0,
      "outputs": []
    },
    {
      "cell_type": "markdown",
      "metadata": {
        "id": "mrfnE_HhxNrz",
        "colab_type": "text"
      },
      "source": [
        "## Soal No.1\n",
        "Gunakan aturan trapezoidal dari **n=5** dan fungsi\n",
        "\n",
        "$f(x) = \\int_{1}^{6}\\left(\\sqrt{x-1}\\right ) \\mathrm{d}x $\n"
      ]
    },
    {
      "cell_type": "code",
      "metadata": {
        "id": "L1fyrFdYwMeX",
        "colab_type": "code",
        "cellView": "both",
        "colab": {
          "base_uri": "https://localhost:8080/",
          "height": 299
        },
        "outputId": "9d66f9d8-af25-41aa-a677-13d4cec15516"
      },
      "source": [
        "#@title Jawaban\n",
        "def f(x):\n",
        "  return np.sqrt(x-1)\n",
        "\n",
        "a = 1\n",
        "b = 6\n",
        "n = 5\n",
        "\n",
        "integArea(1)\n",
        "print(\"Metode trapezoidal = \" + str(trapezoidalRule(f,a,b,n)))\n",
        "print(\"integral = \" + str(realIntegration(f,a,b)[0]))"
      ],
      "execution_count": 4,
      "outputs": [
        {
          "output_type": "stream",
          "text": [
            "Metode trapezoidal = 7.2642983586918675\n",
            "integral = 7.4535599249993005\n"
          ],
          "name": "stdout"
        },
        {
          "output_type": "display_data",
          "data": {
            "image/png": "[encoded data removed]",
            "text/plain": [
              "<Figure size 432x288 with 1 Axes>"
            ]
          },
          "metadata": {
            "tags": [],
            "needs_background": "light"
          }
        }
      ]
    },
    {
      "cell_type": "markdown",
      "metadata": {
        "id": "nkIIzMa0yvoa",
        "colab_type": "text"
      },
      "source": [
        "## Soal No.2\n",
        "Gunakan aturan trapezoidal dari **n=6** dan fungsi\n",
        "\n",
        "$f(x) =  \\int_{0}^{\\pi} sin^{2}x \\mathrm{d}x $\n",
        "\n"
      ]
    },
    {
      "cell_type": "code",
      "metadata": {
        "id": "_axqTGtPaQbv",
        "colab_type": "code",
        "cellView": "both",
        "colab": {
          "base_uri": "https://localhost:8080/",
          "height": 299
        },
        "outputId": "12cf1223-5df3-4505-d124-1bef7d2afac1"
      },
      "source": [
        "#@title Jawaban\n",
        "def f(x):\n",
        "  return np.sin(x)**2\n",
        "\n",
        "a = 0\n",
        "b = np.pi\n",
        "n = 6\n",
        "\n",
        "integArea(2)\n",
        "print(\"Metode trapezoidal = \" + str(trapezoidalRule(f,a,b,n)))\n",
        "print(\"integral = \" + str(realIntegration(f,a,b)[0]))"
      ],
      "execution_count": 5,
      "outputs": [
        {
          "output_type": "stream",
          "text": [
            "Metode trapezoidal = 1.5707963267948968\n",
            "integral = 1.5707963267948966\n"
          ],
          "name": "stdout"
        },
        {
          "output_type": "display_data",
          "data": {
            "image/png": "[encoded data removed]",
            "text/plain": [
              "<Figure size 432x288 with 1 Axes>"
            ]
          },
          "metadata": {
            "tags": [],
            "needs_background": "light"
          }
        }
      ]
    }
  ]
}